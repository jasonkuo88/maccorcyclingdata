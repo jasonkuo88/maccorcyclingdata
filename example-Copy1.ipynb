{
 "cells": [
  {
   "cell_type": "markdown",
   "metadata": {},
   "source": [
    "This is a Jupyter Notebook that shows examples of all the functions in the maccorcyclingdata package."
   ]
  },
  {
   "cell_type": "code",
   "execution_count": 1,
   "metadata": {},
   "outputs": [],
   "source": [
    "import maccorcyclingdata.testdata as testdata\n",
    "import maccorcyclingdata.schedules as schedules\n",
    "import maccorcyclingdata.validate as validate\n",
    "import importlib\n",
    "import pandas as pd\n",
    "from pandas._testing import assert_frame_equal"
   ]
  },
  {
   "cell_type": "code",
   "execution_count": 60,
   "metadata": {},
   "outputs": [],
   "source": [
    "df = testdata.import_maccor_data('example_data/', 'testdata_errors.csv')"
   ]
  },
  {
   "cell_type": "code",
   "execution_count": 61,
   "metadata": {},
   "outputs": [],
   "source": [
    "schedule_df = schedules.import_schedules('example_data/', 'schedule_short.csv')"
   ]
  },
  {
   "cell_type": "code",
   "execution_count": 65,
   "metadata": {},
   "outputs": [],
   "source": [
    "validation_df = validate.validate_test_data(schedule_df , df, 7, 60, 5, 50, False, temp_tol=3, char_tol=2)\n",
    "validation_df = validation_df.astype('object').dtypes"
   ]
  },
  {
   "cell_type": "code",
   "execution_count": 73,
   "metadata": {},
   "outputs": [],
   "source": [
    "test_df = pd.DataFrame(data={\"time\": ['14/09/2020 14:39:41','14/09/2020 14:39:41','14/09/2020 14:39:41','14/09/2020 14:39:41','14/09/2020 14:39:41','14/09/2020 14:39:41','14/09/2020 14:39:41','14/09/2020 14:39:41','14/09/2020 14:39:41,','14/09/2020 14:39:41','14/09/2020 14:39:41','14/09/2020 14:39:41','14/09/2020 14:39:41','14/09/2020 14:39:41','14/09/2020 14:39:41','14/09/2020 14:39:41','14/09/2020 14:39:41','14/09/2020 14:39:41','14/09/2020 14:39:41','14/09/2020 14:39:41','14/09/2020 14:39:41','14/09/2020 14:39:41','14/09/2020 14:39:41','14/09/2020 14:39:41','14/09/2020 14:39:41','14/09/2020 14:39:41','14/09/2020 14:39:41'],\"run\":['in progress', 'in progress', 'in progress', 'in progress', 'in progress', 'in progress', 'in progress', 'in progress', 'in progress', 'in progress', 'in progress', 'in progress', 'in progress', 'in progress', 'in progress', 'in progress', 'in progress', 'in progress', 'in progress', 'in progress', 'in progress', 'in progress', 'in progress', 'in progress', 'in progress', 'in progress', 'run complete'],\"cell_num\":[7, 7, 7, 7, 7, 7, 7, 7, 7, 7, 7, 7, 7, 7, 7, 7, 7, 7, 7, 7, 7, 7, 7, 7, 7, 7, 7],\"row_number\":[1,1,2,3,3,4,4,5,6,6,8,10,10,11,12,13,15,15,16,17,18,19,19,20,20,20,'-'],\"error\":['max temp warning - temperature approaching the max of 50!',\n",
    " 'temp interval anomaly - jump in temperature (more than 5 degrees)',\n",
    " 'temp interval anomaly - jump in temperature (more than 5 degrees)',\n",
    " 'max temp error - temperature has surpassed the max of 50!',\n",
    " 'temp interval anomaly - jump in temperature (more than 5 degrees)',\n",
    " 'ABORT - temperature is way too hot! It has far surpassed the max of 50!',\n",
    " 'temp interval anomaly - jump in temperature (more than 5 degrees)',\n",
    " 'temp interval anomaly - jump in temperature (more than 5 degrees)',\n",
    " 'time interval anomaly - more than 60 seconds has passed since the last collected data',\n",
    " 'rest step error - current is not at 0 during rest step',\n",
    " 'max step error - this step number surpasses the steps in cycler schedule',\n",
    " 'time interval anomaly - more than 60 seconds has passed since the last collected data',\n",
    " 'discharging error - current_ma or voltage_v is at the wrong value',\n",
    " 'discharging error - current_ma or voltage_v is at the wrong value',\n",
    " 'max step error - this step number surpasses the steps in cycler schedule',\n",
    " 'max step error - this step number surpasses the steps in cycler schedule',\n",
    " 'time interval anomaly - more than 60 seconds has passed since the last collected data',\n",
    " 'max step error - this step number surpasses the steps in cycler schedule',\n",
    " 'max step error - this step number surpasses the steps in cycler schedule',\n",
    " 'max step error - this step number surpasses the steps in cycler schedule',\n",
    " 'time interval anomaly - more than 60 seconds has passed since the last collected data',\n",
    " 'temp interval anomaly - jump in temperature (more than 5 degrees)',\n",
    " 'max step error - this step number surpasses the steps in cycler schedule',\n",
    " 'time interval anomaly - more than 60 seconds has passed since the last collected data',\n",
    " 'temp interval anomaly - jump in temperature (more than 5 degrees)',\n",
    " 'rest step error - current is not at 0 during rest step',\n",
    " 'errors listed above']})\n",
    "test_df = test_df.astype('object').dtypes"
   ]
  },
  {
   "cell_type": "code",
   "execution_count": 74,
   "metadata": {},
   "outputs": [
    {
     "data": {
      "text/plain": [
       "True"
      ]
     },
     "execution_count": 74,
     "metadata": {},
     "output_type": "execute_result"
    }
   ],
   "source": [
    "test_df.equals(validation_df)"
   ]
  },
  {
   "cell_type": "code",
   "execution_count": null,
   "metadata": {},
   "outputs": [],
   "source": []
  }
 ],
 "metadata": {
  "kernelspec": {
   "display_name": "Python 3",
   "language": "python",
   "name": "python3"
  },
  "language_info": {
   "codemirror_mode": {
    "name": "ipython",
    "version": 3
   },
   "file_extension": ".py",
   "mimetype": "text/x-python",
   "name": "python",
   "nbconvert_exporter": "python",
   "pygments_lexer": "ipython3",
   "version": "3.7.6"
  }
 },
 "nbformat": 4,
 "nbformat_minor": 4
}
